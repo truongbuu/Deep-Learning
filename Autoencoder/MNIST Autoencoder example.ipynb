{
 "cells": [
  {
   "cell_type": "markdown",
   "metadata": {},
   "source": [
    "In this tutorial, we will implement an autoencoder for MNIST dataset <br />\n",
    "Note that for MNIST dataset, the value of each pixel is binary(either 0 or 1)\n"
   ]
  },
  {
   "cell_type": "code",
   "execution_count": 1,
   "metadata": {},
   "outputs": [
    {
     "name": "stdout",
     "output_type": "stream",
     "text": [
      "Extracting /tmp/data/train-images-idx3-ubyte.gz\n",
      "Extracting /tmp/data/train-labels-idx1-ubyte.gz\n",
      "Extracting /tmp/data/t10k-images-idx3-ubyte.gz\n",
      "Extracting /tmp/data/t10k-labels-idx1-ubyte.gz\n"
     ]
    }
   ],
   "source": [
    "from __future__ import division, print_function, absolute_import\n",
    "\n",
    "import tensorflow as tf\n",
    "import numpy as np\n",
    "import matplotlib.pyplot as plt\n",
    "\n",
    "# Import MNIST data\n",
    "from tensorflow.examples.tutorials.mnist import input_data\n",
    "mnist = input_data.read_data_sets(\"/tmp/data/\", one_hot=True)\n"
   ]
  },
  {
   "cell_type": "code",
   "execution_count": 2,
   "metadata": {
    "collapsed": true
   },
   "outputs": [],
   "source": [
    "#Build a autoencoder with deep neural network\n",
    "\n",
    "def build_mlp(input_placeholder,scope):\n",
    "    with tf.variable_scope(scope):\n",
    "        enc = tf.layers.dense(inputs = input_placeholder, units=128, activation= tf.nn.relu)\n",
    "        enc = tf.layers.dense(inputs = enc, units=128, activation= tf.nn.relu)\n",
    "        enc = tf.layers.dense(inputs = enc, units=64, activation= tf.nn.relu)\n",
    "        \n",
    "        dec = tf.layers.dense(inputs = enc, units=64, activation= tf.nn.tanh)\n",
    "        dec = tf.layers.dense(inputs = dec, units=128, activation= tf.nn.tanh)\n",
    "        dec = tf.layers.dense(inputs = dec, units=784, activation= tf.nn.tanh)\n",
    "    return dec"
   ]
  },
  {
   "cell_type": "code",
   "execution_count": 3,
   "metadata": {},
   "outputs": [],
   "source": [
    "#input tensor\n",
    "\n",
    "with tf.name_scope('input_data'):\n",
    "    x = tf.placeholder(tf.float32, shape = [None , 784]) #None means that it can be any arbitary\n",
    "with tf.name_scope('output_image'):\n",
    "    y = build_mlp(x,'aue')"
   ]
  },
  {
   "cell_type": "code",
   "execution_count": 4,
   "metadata": {},
   "outputs": [],
   "source": [
    "#loss function:\n",
    "loss = tf.losses.mean_squared_error(x, y)\n",
    "#Optimizer\n",
    "optimizer = tf.train.AdamOptimizer(learning_rate=0.01).minimize(loss)"
   ]
  },
  {
   "cell_type": "code",
   "execution_count": 5,
   "metadata": {},
   "outputs": [
    {
     "name": "stdout",
     "output_type": "stream",
     "text": [
      "Average loss at step 10:   0.1\n",
      "Average loss at step 20:   0.1\n",
      "Average loss at step 30:   0.1\n",
      "Average loss at step 40:   0.1\n",
      "Average loss at step 50:   0.1\n",
      "Average loss at step 60:   0.1\n",
      "Average loss at step 70:   0.0\n",
      "Average loss at step 80:   0.0\n",
      "Average loss at step 90:   0.0\n",
      "Average loss at step 100:   0.0\n",
      "Average loss at step 110:   0.0\n",
      "Average loss at step 120:   0.0\n",
      "Average loss at step 130:   0.0\n",
      "Average loss at step 140:   0.0\n",
      "Average loss at step 150:   0.0\n",
      "Average loss at step 160:   0.0\n",
      "Average loss at step 170:   0.0\n",
      "Average loss at step 180:   0.0\n",
      "Average loss at step 190:   0.0\n",
      "Average loss at step 200:   0.0\n",
      "Average loss at step 210:   0.0\n",
      "Average loss at step 220:   0.0\n",
      "Average loss at step 230:   0.0\n",
      "Average loss at step 240:   0.0\n",
      "Average loss at step 250:   0.0\n",
      "Average loss at step 260:   0.0\n",
      "Average loss at step 270:   0.0\n",
      "Average loss at step 280:   0.0\n",
      "Average loss at step 290:   0.0\n",
      "Average loss at step 300:   0.0\n",
      "Average loss at step 310:   0.0\n",
      "Average loss at step 320:   0.0\n",
      "Average loss at step 330:   0.0\n",
      "Average loss at step 340:   0.0\n",
      "Average loss at step 350:   0.0\n",
      "Average loss at step 360:   0.0\n",
      "Average loss at step 370:   0.0\n",
      "Average loss at step 380:   0.0\n",
      "Average loss at step 390:   0.0\n",
      "Average loss at step 400:   0.0\n",
      "Average loss at step 410:   0.0\n",
      "Average loss at step 420:   0.0\n",
      "Average loss at step 430:   0.0\n",
      "Average loss at step 440:   0.0\n",
      "Average loss at step 450:   0.0\n",
      "Average loss at step 460:   0.0\n",
      "Average loss at step 470:   0.0\n",
      "Average loss at step 480:   0.0\n",
      "Average loss at step 490:   0.0\n",
      "Average loss at step 500:   0.0\n",
      "Average loss at step 510:   0.0\n",
      "Average loss at step 520:   0.0\n",
      "Average loss at step 530:   0.0\n",
      "Average loss at step 540:   0.0\n",
      "Average loss at step 550:   0.0\n",
      "Average loss at step 560:   0.0\n",
      "Average loss at step 570:   0.0\n",
      "Average loss at step 580:   0.0\n",
      "Average loss at step 590:   0.0\n",
      "Average loss at step 600:   0.0\n",
      "Average loss at step 610:   0.0\n",
      "Average loss at step 620:   0.0\n",
      "Average loss at step 630:   0.0\n",
      "Average loss at step 640:   0.0\n",
      "Average loss at step 650:   0.0\n",
      "Average loss at step 660:   0.0\n",
      "Average loss at step 670:   0.0\n",
      "Average loss at step 680:   0.0\n",
      "Average loss at step 690:   0.0\n",
      "Average loss at step 700:   0.0\n",
      "Average loss at step 710:   0.0\n",
      "Average loss at step 720:   0.0\n",
      "Average loss at step 730:   0.0\n",
      "Average loss at step 740:   0.0\n",
      "Average loss at step 750:   0.0\n",
      "Average loss at step 760:   0.0\n",
      "Average loss at step 770:   0.0\n",
      "Average loss at step 780:   0.0\n",
      "Average loss at step 790:   0.0\n",
      "Average loss at step 800:   0.0\n",
      "Average loss at step 810:   0.0\n",
      "Average loss at step 820:   0.0\n",
      "Average loss at step 830:   0.0\n",
      "Average loss at step 840:   0.0\n",
      "Average loss at step 850:   0.0\n",
      "Average loss at step 860:   0.0\n",
      "Average loss at step 870:   0.0\n",
      "Average loss at step 880:   0.0\n",
      "Average loss at step 890:   0.0\n",
      "Average loss at step 900:   0.0\n",
      "Average loss at step 910:   0.0\n",
      "Average loss at step 920:   0.0\n",
      "Average loss at step 930:   0.0\n",
      "Average loss at step 940:   0.0\n",
      "Average loss at step 950:   0.0\n",
      "Average loss at step 960:   0.0\n",
      "Average loss at step 970:   0.0\n",
      "Average loss at step 980:   0.0\n",
      "Average loss at step 990:   0.0\n",
      "Average loss at step 1000:   0.0\n",
      "Average loss at step 1010:   0.0\n",
      "Average loss at step 1020:   0.0\n",
      "Average loss at step 1030:   0.0\n",
      "Average loss at step 1040:   0.0\n",
      "Average loss at step 1050:   0.0\n",
      "Average loss at step 1060:   0.0\n",
      "Average loss at step 1070:   0.0\n",
      "Average loss at step 1080:   0.0\n",
      "Average loss at step 1090:   0.0\n",
      "Average loss at step 1100:   0.0\n",
      "Average loss at step 1110:   0.0\n",
      "Average loss at step 1120:   0.0\n",
      "Average loss at step 1130:   0.0\n",
      "Average loss at step 1140:   0.0\n",
      "Average loss at step 1150:   0.0\n",
      "Average loss at step 1160:   0.0\n",
      "Average loss at step 1170:   0.0\n",
      "Average loss at step 1180:   0.0\n",
      "Average loss at step 1190:   0.0\n",
      "Average loss at step 1200:   0.0\n",
      "Average loss at step 1210:   0.0\n",
      "Average loss at step 1220:   0.0\n",
      "Average loss at step 1230:   0.0\n",
      "Average loss at step 1240:   0.0\n",
      "Average loss at step 1250:   0.0\n",
      "Average loss at step 1260:   0.0\n",
      "Average loss at step 1270:   0.0\n",
      "Average loss at step 1280:   0.0\n",
      "Model saved in file: saver/model.ckpt\n"
     ]
    }
   ],
   "source": [
    "BATCH_SIZE = 128 #Define a batch size, it should be at the head of the program, not this cell,anyway\n",
    "NUM_EPO = 10\n",
    "SKIP_STEP = 10\n",
    "init = tf.global_variables_initializer() \n",
    "saver = tf.train.Saver()\n",
    "with tf.Session() as sess:\n",
    "    sess.run(init)\n",
    "    total_cost = 0\n",
    "    for i in range(BATCH_SIZE*NUM_EPO):\n",
    "        train_x, train_y = mnist.train.next_batch(BATCH_SIZE)\n",
    "        _, loss_batch = sess.run([optimizer, loss], feed_dict={x: train_x})\n",
    "        total_cost += loss_batch\n",
    "        if (i + 1) % SKIP_STEP == 0:\n",
    "            print('Average loss at step {}: {:5.1f}'.format(i + 1, total_cost / SKIP_STEP))\n",
    "            total_cost = 0.0       # Reset for next average\n",
    "    save_path = saver.save(sess, \"saver/model.ckpt\")\n",
    "    print(\"Model saved in file: %s\" % save_path)"
   ]
  },
  {
   "cell_type": "code",
   "execution_count": 6,
   "metadata": {},
   "outputs": [
    {
     "name": "stdout",
     "output_type": "stream",
     "text": [
      "INFO:tensorflow:Restoring parameters from saver/model.ckpt\n",
      "Model restored.\n",
      "0.0355894\n"
     ]
    }
   ],
   "source": [
    "\n",
    "with tf.Session() as sess:\n",
    "    saver.restore(sess, \"saver/model.ckpt\")\n",
    "    print(\"Model restored.\")\n",
    "    \n",
    "    print (sess.run(loss, feed_dict={x: mnist.test.images}))"
   ]
  },
  {
   "cell_type": "code",
   "execution_count": 7,
   "metadata": {},
   "outputs": [
    {
     "name": "stdout",
     "output_type": "stream",
     "text": [
      "INFO:tensorflow:Restoring parameters from saver/model.ckpt\n",
      "Model restored.\n"
     ]
    },
    {
     "data": {
      "image/png": "[encoded data removed]",
      "text/plain": [
       "<matplotlib.figure.Figure at 0x7f059fb4ff10>"
      ]
     },
     "metadata": {},
     "output_type": "display_data"
    }
   ],
   "source": [
    "from matplotlib import pyplot\n",
    "%matplotlib inline\n",
    "#Print several images and its reconstruction in the testset\n",
    "with tf.Session() as sess:\n",
    "    saver.restore(sess, \"saver/model.ckpt\")\n",
    "    print(\"Model restored.\")\n",
    "    \n",
    "    X,label = mnist.test.next_batch(1)\n",
    "    out_image = (sess.run(y, feed_dict={x: X}))\n",
    "    img = out_image>0.5\n",
    "    img = img.reshape(28,28)\n",
    "    X = X[0].reshape(28,28)\n",
    "    plt.subplot(1,2,1)\n",
    "    plt.imshow(X, cmap='gray')\n",
    "    plt.title('Origin')\n",
    "    plt.subplot(1,2,2)\n",
    "    plt.imshow(img, cmap='gray')\n",
    "    plt.title('Reconstructed')\n",
    "    plt.show()\n",
    "    \n",
    "    \n",
    "    "
   ]
  },
  {
   "cell_type": "code",
   "execution_count": null,
   "metadata": {
    "collapsed": true
   },
   "outputs": [],
   "source": []
  }
 ],
 "metadata": {
  "kernelspec": {
   "display_name": "Python 2",
   "language": "python",
   "name": "python2"
  },
  "language_info": {
   "codemirror_mode": {
    "name": "ipython",
    "version": 2
   },
   "file_extension": ".py",
   "mimetype": "text/x-python",
   "name": "python",
   "nbconvert_exporter": "python",
   "pygments_lexer": "ipython2",
   "version": "2.7.13"
  }
 },
 "nbformat": 4,
 "nbformat_minor": 2
}
