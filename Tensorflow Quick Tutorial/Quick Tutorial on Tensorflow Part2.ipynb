{
 "cells": [
  {
   "cell_type": "markdown",
   "metadata": {},
   "source": [
    "# This is a quick tutorial on Tensorflow based on Stanford CS 20SI\n",
    "\n",
    "All images & materials are belonged to CS 20SI authors\n"
   ]
  },
  {
   "cell_type": "markdown",
   "metadata": {},
   "source": [
    "# Part 2: One step before training a Deep Neural Networks (DNNs) model\n",
    "\n",
    "We will build two models in part 3: logistic regression and deep CNN for MNIST dataset. After this, we will jump to other deep models: <br> <br>\n",
    "\n",
    "\n",
    "<font color=blue>\n",
    "-**Unsupervised learning:** <br>\n",
    "Autoencoder, Variational Autoencoder, Generative Adversarial Networks <br>\n",
    "\n",
    "\n",
    "-**Time series model:** <br>\n",
    "LSTMs, Attention model <br>\n",
    "\n",
    "-**Deep Reinforcement Learning (TBD- this is what I am focusing on)** </font>"
   ]
  },
  {
   "cell_type": "markdown",
   "metadata": {},
   "source": [
    "_In this section, we will use tensorboard (yes, the tool that gives us graph pictures in the previous tutorial_ <br>\n",
    "** Note: This section requires us to run terminal in order to see that \"board\"**"
   ]
  },
  {
   "cell_type": "code",
   "execution_count": 1,
   "metadata": {},
   "outputs": [
    {
     "name": "stdout",
     "output_type": "stream",
     "text": [
      "5\n"
     ]
    }
   ],
   "source": [
    "import tensorflow as tf\n",
    "a = tf.constant(2)\n",
    "b = tf.constant(3)\n",
    "x = tf.add(a, b)\n",
    "with tf.Session() as sess:\n",
    "# add this line to use TensorBoard. \n",
    "    writer = tf.summary.FileWriter('./graphs', sess.graph) \n",
    "print sess.run(x)\n",
    "writer.close() # close the writer when you’re done using it"
   ]
  },
  {
   "cell_type": "markdown",
   "metadata": {},
   "source": [
    "**Note for remembering writer command** <br>\n",
    "- Tensorboard is a summary of our model, thus tf.summary <br>\n",
    "- We need to specify the location of our summary, thus FileWrite <br>\n",
    "- Why sess.graph: default graph in this case (look at the final remark in previous tutorial)\n",
    "\n",
    "Open your termial (cd to the directory contains this notebook), type: <br>\n",
    "$ tensorboard --logdir=\"./graphs\" --port 6006 <br>\n",
    "Then in your web browser, open \"http://localhost:6006/\" <br>\n",
    "**Note for remembering the command (nobody wants to google this one everytime):** <br>\n",
    "+ tensorboard: of course since we want to call tensorboard <br>\n",
    "+ --logdir   : do you remember the locations that we define in the python program?\n",
    "+ --port xxxx: the local host address that we specify\n"
   ]
  },
  {
   "cell_type": "markdown",
   "metadata": {},
   "source": [
    "# Variables, constant, etc notes:\n",
    "\n",
    "<font color=blue> **Creating some predefined tensor matrix**<font> <br>\n",
    "\n",
    "\n",
    "\n"
   ]
  },
  {
   "cell_type": "markdown",
   "metadata": {},
   "source": [
    "**tf.constant: full description as follow: **<br>\n",
    "tf.constant(value, dtype=None, shape=None, name='Const', verify_shape=False) <br>\n",
    "The 'Const' that we saw in our tensorboard is predefined, we can change to other names. <br>\n",
    "\n",
    "**tf.zeros: create zeros matrix**<br>\n",
    "tf.zeros(shape, dtype=tf.float32, name=None) <br>\n",
    "\n",
    "**tf.random_normal: create random normal array with specify mean and stddev value  **<br>\n",
    "tf.random_normal(shape, mean=0.0, stddev=1.0, dtype=tf.float32, seed=None, name=None) <br>\n",
    "\n",
    "**tf.set_random_seed: random need same seed for same result**<br>\n",
    "tf.set_random_seed(seed)<br>\n",
    "\n",
    "*Check more on tensorflow https://www.tensorflow.org/ * <br>"
   ]
  },
  {
   "cell_type": "markdown",
   "metadata": {
    "collapsed": true
   },
   "source": [
    "<font color=blue> **Data types:**<font>"
   ]
  },
  {
   "cell_type": "markdown",
   "metadata": {
    "collapsed": true
   },
   "source": [
    "constant are stored in graph definition ==> Makes it expensive for graph loading when constant are big (try loading graph multiple times, we need the structure not the values of the constant) <br>\n",
    "We cannot change value of constant ==> Should use variable (weights have to be updated though...) <br>\n",
    "We should use Variables instead:\n"
   ]
  },
  {
   "cell_type": "code",
   "execution_count": 2,
   "metadata": {
    "collapsed": true
   },
   "outputs": [],
   "source": [
    "a = tf.Variable(2, name = 'scalar')\n",
    "b = tf.Variable([2,3,4], name = 'vector')"
   ]
  },
  {
   "cell_type": "code",
   "execution_count": 3,
   "metadata": {},
   "outputs": [
    {
     "name": "stdout",
     "output_type": "stream",
     "text": [
      "<tf.Variable 'scalar:0' shape=() dtype=int32_ref>\n"
     ]
    }
   ],
   "source": [
    "print a #Again, you should have expect it"
   ]
  },
  {
   "cell_type": "code",
   "execution_count": 6,
   "metadata": {},
   "outputs": [
    {
     "name": "stdout",
     "output_type": "stream",
     "text": [
      "2\n"
     ]
    }
   ],
   "source": [
    "init = tf.global_variables_initializer() #we need to initialize the variables\n",
    "#Use:  tf.variables_initializer([a, b], name=\"init_ab\") for certain variables\n",
    "with tf.Session() as sess:\n",
    "    sess.run(init)\n",
    "    print a.eval()"
   ]
  },
  {
   "cell_type": "code",
   "execution_count": 9,
   "metadata": {},
   "outputs": [
    {
     "name": "stdout",
     "output_type": "stream",
     "text": [
      "10\n"
     ]
    }
   ],
   "source": [
    "'''Some quick code'''\n",
    "W = tf.Variable(10)\n",
    "W.assign(100)\n",
    "with tf.Session() as sess:\n",
    "    sess.run(W.initializer)\n",
    "    print W.eval() # >> 10"
   ]
  },
  {
   "cell_type": "code",
   "execution_count": 10,
   "metadata": {},
   "outputs": [
    {
     "name": "stdout",
     "output_type": "stream",
     "text": [
      "100\n"
     ]
    }
   ],
   "source": [
    "W = tf.Variable(10)\n",
    "assign_op = W.assign(100)\n",
    "with tf.Session() as sess:\n",
    "    sess.run(assign_op) #<<<< We do not need to initial (assign_op automatically do that for us)\n",
    "    print W.eval() # >> 100"
   ]
  },
  {
   "cell_type": "markdown",
   "metadata": {},
   "source": [
    "*** That's bascially what you need to remember for variables (for others, you should buy a book) ***\n",
    "<font color = red>Now remember when we train a machine learing model, we have to feed the input x, use batch gradient descent for that? Now for that task, we use tf.placeholder <font>"
   ]
  },
  {
   "cell_type": "code",
   "execution_count": 11,
   "metadata": {},
   "outputs": [
    {
     "name": "stdout",
     "output_type": "stream",
     "text": [
      "[ 6.  7.  8.]\n"
     ]
    }
   ],
   "source": [
    "# create a placeholder of type float 32-bit, shape is a vector of 3 elements\n",
    "a = tf.placeholder(tf.float32, shape=[3])\n",
    "# create a constant of type float 32-bit, shape is a vector of 3 elements\n",
    "b = tf.constant([5, 5, 5], tf.float32)\n",
    "# use the placeholder as you would a constant or a variable\n",
    "c = a + b  # Short for tf.add(a, b)\n",
    "with tf.Session() as sess:\n",
    "# feed [1, 2, 3] to placeholder a via the dict {a: [1, 2, 3]}\n",
    "# fetch value of c\n",
    "    print sess.run(c, {a: [1, 2, 3]}) # the tensor a is the key, not the string ‘a’"
   ]
  },
  {
   "cell_type": "markdown",
   "metadata": {},
   "source": [
    "# We are now ready to train a Deep Neural Network for MNIST dataset "
   ]
  }
 ],
 "metadata": {
  "kernelspec": {
   "display_name": "Python 2",
   "language": "python",
   "name": "python2"
  },
  "language_info": {
   "codemirror_mode": {
    "name": "ipython",
    "version": 2
   },
   "file_extension": ".py",
   "mimetype": "text/x-python",
   "name": "python",
   "nbconvert_exporter": "python",
   "pygments_lexer": "ipython2",
   "version": "2.7.13"
  }
 },
 "nbformat": 4,
 "nbformat_minor": 2
}
